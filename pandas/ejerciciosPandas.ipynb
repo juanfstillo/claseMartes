{
 "cells": [
  {
   "cell_type": "markdown",
   "id": "ab507f7a",
   "metadata": {},
   "source": [
    "1-Escribir un programa que pregunte al usuario por las ventas de un rango de años y muestre por pantalla una serie con los datos de las ventas indexada por los años, antes y después de aplicarles un descuento del 20%.\n"
   ]
  },
  {
   "cell_type": "code",
   "execution_count": 3,
   "id": "8cdbff2d",
   "metadata": {},
   "outputs": [],
   "source": [
    "import pandas as pd"
   ]
  },
  {
   "cell_type": "code",
   "execution_count": 4,
   "id": "a007497c",
   "metadata": {},
   "outputs": [
    {
     "name": "stdout",
     "output_type": "stream",
     "text": [
      "Introduce el año inicial: 2001\n",
      "Introduce el año final: 2003\n",
      "Introduce las ventas del año 2001: 9000\n",
      "Introduce las ventas del año 2002: 8\n",
      "Introduce las ventas del año 2003: 1\n",
      "Ventas\n",
      " 2001    9000.0\n",
      "2002       8.0\n",
      "2003       1.0\n",
      "dtype: float64\n",
      "Ventas con descuento\n",
      " 2001    7200.0\n",
      "2002       6.4\n",
      "2003       0.8\n",
      "dtype: float64\n"
     ]
    }
   ],
   "source": [
    "inicio = int(input('Introduce el año inicial: '))\n",
    "fin = int(input('Introduce el año final: '))\n",
    "ventas = {}\n",
    "for i in range(inicio, fin+1):\n",
    "    ventas[i] = float(input('Introduce las ventas del año ' + str(i) +': '))\n",
    "ventas = pd.Series(ventas)\n",
    "print('Ventas\\n', ventas)\n",
    "print('Ventas con descuento\\n', ventas*0.8)"
   ]
  },
  {
   "cell_type": "markdown",
   "id": "205e12da",
   "metadata": {},
   "source": [
    "2-Un profesor desea obtener rápidamente los nombres y las notas de sus alumnos aprobados. Se pide realizar una función que reciba un diccionario con las notas de los alumnos y devuelva una serie con las notas de los alumnos aprobados ordenadas de mayor a menor y de menor a mayor. La materia se aprueba con 7."
   ]
  },
  {
   "cell_type": "code",
   "execution_count": 6,
   "id": "ff0ef3b6",
   "metadata": {},
   "outputs": [
    {
     "name": "stdout",
     "output_type": "stream",
     "text": [
      "(Diego      10\n",
      "Carlos      8\n",
      "Martina     8\n",
      "Claudia     7\n",
      "dtype: int64, Claudia     7\n",
      "Carlos      8\n",
      "Martina     8\n",
      "Diego      10\n",
      "dtype: int64)\n"
     ]
    }
   ],
   "source": [
    "def aprobados(notas):\n",
    "    notas = pd.Series(notas)\n",
    "    return notas[notas >= 7].sort_values(ascending=False),notas[notas >= 7].sort_values(ascending=True)\n",
    "\n",
    "notas = {'Marcos':1, 'Diego':10, 'Claudia':7, 'Carlos': 8, 'Maria': 1,'Jose':4,'Martina':8}\n",
    "print(aprobados(notas))"
   ]
  },
  {
   "cell_type": "markdown",
   "id": "6b4fb47f",
   "metadata": {},
   "source": [
    "3-Los siguientes archivos\n",
    "emisiones-2016.csv\n",
    "emisiones-2017.csv\n",
    "emisiones-2018.csv \n",
    "emisiones-2019.csv \n",
    "contienen datos sobre las emisiones contaminantes en una ciudad en los años indicados. \n",
    "Escribir un programa con los siguientes requisitos:\n"
   ]
  },
  {
   "cell_type": "markdown",
   "id": "78bd21ba",
   "metadata": {},
   "source": [
    "1. Generar un DataFrame con los datos de los cuatro ficheros.\n",
    "2. Filtrar las columnas del DataFrame para quedarse con las columnas ESTACION, MAGNITUD, AÑO, MES y las correspondientes a los días D01, D02, etc. \n",
    "3. Reestructurar el DataFrame para que los valores de los contaminantes de las columnas de los días aparezcan en una única columna.\n",
    "4. Añadir una columna con la fecha a partir de la concatenación del año, el mes y el día (usar el módulo `datetime`).\n",
    "5. Eliminar las filas con fechas no válidas (utilizar la función `isnat` del módulo `numpy`) y ordenar el DataFrame por estaciones contaminantes y fecha.\n",
    "6. Mostrar por pantalla las estaciones y los contaminantes disponibles en el DataFrame.\n",
    "7. Crear una función que reciba una estación, un contaminante y un rango de fechas y devuelva una serie con las emisiones del contaminante dado en la estación y rango de fechas dado.\n",
    "8. Mostrar un resumen descriptivo (mínimo, máximo, media, etc.) para cada contaminante.\n",
    "9. Mostrar un resumen descriptivo para cada contaminante por distritos.\n",
    "10. Crear una función que reciba una estación y un contaminante y devuelva un resumen descriptivo de las emisiones del contaminante indicado en la estación indicada. \n",
    "11. Crear una función que devuelva las emisiones medias mensuales de un contaminante y un año dados para todos las estaciones.\n",
    "12. Crear un función que reciba una estación de medición y devuelva un DataFrame con las medias mensuales de los distintos tipos de contaminantes.\n"
   ]
  },
  {
   "cell_type": "code",
   "execution_count": null,
   "id": "a89aa13b",
   "metadata": {},
   "outputs": [],
   "source": [
    "import pandas as pd\n",
    "import numpy as np\n",
    "import datetime as dt\n",
    "\n",
    "# Generar un DataFrame con los datos de los cuatro ficheros\n",
    "import pandas as pd \n",
    "\n",
    "emisiones_2016 = pd.read_csv('emisiones-2016.csv', sep = ';')\n",
    "emisiones_2017 = pd.read_csv('emisiones-2017.csv', sep = ';')\n",
    "emisiones_2018 = pd.read_csv('emisiones-2018.csv', sep = ';')\n",
    "emisiones_2019 = pd.read_csv('emisiones-2019.csv', sep = ';')\n",
    "emisiones = pd.concat([emisiones_2016, emisiones_2017, emisiones_2018, emisiones_2019])\n",
    "emisiones"
   ]
  },
  {
   "cell_type": "code",
   "execution_count": null,
   "id": "aacd859c",
   "metadata": {},
   "outputs": [],
   "source": [
    "# Filtrar las columnas del DataFrame para quedarse con las columnas ESTACION, MAGNITUD, AÑO, MES y las correspondientes a los días D01, D02, etc. \n",
    "columnas = ['ESTACION', 'MAGNITUD', 'ANO', 'MES']\n",
    "columnas.extend([col for col in emisiones if col.startswith('D')])\n",
    "emisiones = emisiones[columnas]\n",
    "emisiones"
   ]
  },
  {
   "cell_type": "code",
   "execution_count": null,
   "id": "d0ed9121",
   "metadata": {},
   "outputs": [],
   "source": [
    "# Reestructurar el DataFrame para que los valores de los contaminantes de las columnas de los días aparezcan en una única columna.\n",
    "emisiones = emisiones.melt(id_vars=['ESTACION', 'MAGNITUD', 'ANO', 'MES'], var_name='DIA', value_name='VALOR')\n",
    "emisiones"
   ]
  },
  {
   "cell_type": "code",
   "execution_count": null,
   "id": "3cd2f095",
   "metadata": {},
   "outputs": [],
   "source": [
    "# Crear una nueva columna con las fechas a partir del año, mes y día\n",
    "# Primero eliminamos el caracter D del comienzo de la columna de los días\n",
    "emisiones['DIA'] = emisiones.DIA.str.strip('D')\n",
    "# Concatenamos las columnas del año, mes y día\n",
    "emisiones['FECHA'] = emisiones.ANO.apply(str) + '/' + emisiones.MES.apply(str) + '/' + emisiones.DIA.apply(str)\n",
    "# Convertimos la nueva columna al tipo fecha\n",
    "emisiones['FECHA'] = pd.to_datetime(emisiones.FECHA, format='%Y/%m/%d', infer_datetime_format=True, errors='coerce')\n",
    "emisiones"
   ]
  },
  {
   "cell_type": "code",
   "execution_count": null,
   "id": "78146872",
   "metadata": {},
   "outputs": [],
   "source": [
    "# Eliminar las filas con fechas no válidas\n",
    "emisiones = emisiones.drop(emisiones[np.isnat(emisiones.FECHA)].index)\n",
    "# Ordenar el el dataframe por estación, magnitud y fecha\n",
    "emisiones.sort_values(['ESTACION', 'MAGNITUD', 'FECHA'])"
   ]
  },
  {
   "cell_type": "code",
   "execution_count": null,
   "id": "4c0d06ca",
   "metadata": {},
   "outputs": [],
   "source": [
    "# Mostrar las estaciones disponibles\n",
    "print('Estaciones:', emisiones.ESTACION.unique())\n",
    "# Mostrar los contaminantes disponibles\n",
    "print('Contaminantes:', emisiones.MAGNITUD.unique())"
   ]
  },
  {
   "cell_type": "code",
   "execution_count": null,
   "id": "994e9719",
   "metadata": {},
   "outputs": [],
   "source": [
    "# Función que devuelve las emisiones de un contaminante dado en una estación y rango de fechas dado.\n",
    "def evolucion(estacion, contaminante, desde, hasta):\n",
    "    return emisiones[(emisiones.ESTACION == estacion) & (emisiones.MAGNITUD == contaminante) & (emisiones.FECHA >= desde) & (emisiones.FECHA <= hasta)].sort_values('FECHA').VALOR\n",
    "evolucion(56, 8, dt.datetime.strptime('2018/10/25', '%Y/%m/%d'), dt.datetime.strptime('2019/02/12', '%Y/%m/%d'))"
   ]
  },
  {
   "cell_type": "code",
   "execution_count": null,
   "id": "2e476899",
   "metadata": {},
   "outputs": [],
   "source": [
    "# Resumen descriptivo por contaminantes\n",
    "emisiones.groupby('MAGNITUD').VALOR.describe()"
   ]
  },
  {
   "cell_type": "code",
   "execution_count": null,
   "id": "2e7c889c",
   "metadata": {},
   "outputs": [],
   "source": [
    "# Resumen descriptivo por contaminantes y distritos\n",
    "emisiones.groupby(['ESTACION', 'MAGNITUD']).VALOR.describe()"
   ]
  },
  {
   "cell_type": "code",
   "execution_count": null,
   "id": "ccaa2648",
   "metadata": {},
   "outputs": [],
   "source": [
    "# Función que devuelve un resumen descriptivo de la emisiones en un contaminante dado en un estación dada\n",
    "def resumen(estacion, contaminante):\n",
    "    return emisiones[(emisiones.ESTACION == estacion) & (emisiones.MAGNITUD == contaminante)].VALOR.describe()\n",
    "\n",
    "# Resumen de Dióxido de Nitrógeno en Plaza Elíptica\n",
    "print('Resumen Dióxido de Nitrógeno en Plaza Elíptica:\\n', resumen(56, 8),'\\n', sep='')\n",
    "# Resumen de Dióxido de Nitrógeno en Plaza del Carmen\n",
    "print('Resumen Dióxido de Nitrógeno en Plaza del Carmen:\\n', resumen(35, 8), sep='')"
   ]
  },
  {
   "cell_type": "code",
   "execution_count": null,
   "id": "adf7bec2",
   "metadata": {},
   "outputs": [],
   "source": [
    "# Función que devuelve una serie con las emisiones medias mensuales de un contaminante y un mes año para todos las estaciones\n",
    "def evolucion_mensual(contaminante, año):\n",
    "    return emisiones[(emisiones.MAGNITUD == contaminante) & (emisiones.ANO == año)].groupby(['ESTACION', 'MES']).VALOR.mean().unstack('MES')\n",
    "\n",
    "# Evolución del dióxido de nitrógeno en 2019\n",
    "evolucion_mensual(8, 2019)\n",
    "\n"
   ]
  }
 ],
 "metadata": {
  "kernelspec": {
   "display_name": "Python 3 (ipykernel)",
   "language": "python",
   "name": "python3"
  },
  "language_info": {
   "codemirror_mode": {
    "name": "ipython",
    "version": 3
   },
   "file_extension": ".py",
   "mimetype": "text/x-python",
   "name": "python",
   "nbconvert_exporter": "python",
   "pygments_lexer": "ipython3",
   "version": "3.9.12"
  }
 },
 "nbformat": 4,
 "nbformat_minor": 5
}
