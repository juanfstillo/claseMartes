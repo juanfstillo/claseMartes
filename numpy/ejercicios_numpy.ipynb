{
 "cells": [
  {
   "cell_type": "code",
   "execution_count": 1,
   "id": "55bc0bcd",
   "metadata": {},
   "outputs": [],
   "source": [
    "import numpy as np"
   ]
  },
  {
   "cell_type": "markdown",
   "id": "8c6a9582",
   "metadata": {},
   "source": [
    "1-Crea un objeto numpy array con elementos del 10 al 50.\n"
   ]
  },
  {
   "cell_type": "code",
   "execution_count": 4,
   "id": "75daa638",
   "metadata": {},
   "outputs": [
    {
     "name": "stdout",
     "output_type": "stream",
     "text": [
      "[10 11 12 13 14 15 16 17 18 19 20 21 22 23 24 25 26 27 28 29 30 31 32 33\n",
      " 34 35 36 37 38 39 40 41 42 43 44 45 46 47 48 49 50]\n"
     ]
    }
   ],
   "source": [
    "data = np.arange(10,51,1)\n",
    "print(data)"
   ]
  },
  {
   "cell_type": "markdown",
   "id": "8c61b580",
   "metadata": {},
   "source": [
    "2-Cree una matriz bidimensional de 5*5 y mostrar por pantalla el tipo de elemento de la matriz.\n"
   ]
  },
  {
   "cell_type": "code",
   "execution_count": 6,
   "id": "8ed8557a",
   "metadata": {},
   "outputs": [
    {
     "name": "stdout",
     "output_type": "stream",
     "text": [
      "[[0. 0. 0. 0. 0.]\n",
      " [0. 0. 0. 0. 0.]\n",
      " [0. 0. 0. 0. 0.]\n",
      " [0. 0. 0. 0. 0.]\n",
      " [0. 0. 0. 0. 0.]]\n",
      "int64\n"
     ]
    }
   ],
   "source": [
    "data1 = np.zeros((5,5))\n",
    "print(data1)\n",
    "print(data.dtype.name)"
   ]
  },
  {
   "cell_type": "markdown",
   "id": "e3c653e2",
   "metadata": {},
   "source": [
    "3-Crear una matriz bidimensional. \n",
    "- Usar el índice para obtener el numero de la segunda fila y segunda columna.\n",
    "- Usar el índice para obtener el numero de la segunda columna y tercera fila.\n",
    "- Usar el índice para obtener el numero de la ultima columna y última fila.\n",
    "- Usar el índice para obtener el numero de la primera columna y primera fila."
   ]
  },
  {
   "cell_type": "code",
   "execution_count": 18,
   "id": "b3f8c911",
   "metadata": {},
   "outputs": [
    {
     "name": "stdout",
     "output_type": "stream",
     "text": [
      "[[ 0  1  2  3  4]\n",
      " [ 5  6  7  8  9]\n",
      " [10 11 12 13 14]\n",
      " [15 16 17 18 19]\n",
      " [20 21 22 23 24]]\n",
      "--------------\n",
      "6\n",
      "--------------\n",
      "11\n",
      "--------------\n",
      "24\n",
      "--------------\n",
      "0\n"
     ]
    }
   ],
   "source": [
    "data3 = np.arange(25).reshape(5,5)\n",
    "print(data3)\n",
    "print('--------------')\n",
    "print(data3[1,1])\n",
    "print('--------------')\n",
    "print(data3[2,1])\n",
    "print('--------------')\n",
    "print(data3[-1,-1])\n",
    "print('--------------')\n",
    "print(data3[0,0])\n"
   ]
  },
  {
   "cell_type": "markdown",
   "id": "39967ed9",
   "metadata": {},
   "source": [
    "4-Utiliza el índice booleano para generar los resultados del candidato C dados los siguientes datos.\n",
    "-Nombres de los candidatos: candidatoA, candidatoB, candidatoC, candidatoD.\n",
    "-Votos de los candidados en las mesas A1,B1 y C1 =\n",
    "#### Candidato A =\n",
    "- Mesa A1 = 10.1\n",
    "- Mesa B1 = 5.4\n",
    "- Mesa C1 = 21.2\n",
    "#### Candidato B =\n",
    "- Mesa A1 = 33.1\n",
    "- Mesa B1 = 40.2\n",
    "- Mesa C1 = 33.7\n",
    "#### Candidato C =\n",
    "- Mesa A1 = 33.1\n",
    "- Mesa B1 = 40.2\n",
    "- Mesa C1 = 33.7\n",
    "#### Candidato D =\n",
    "- Mesa A1 = 50.1\n",
    "- Mesa B1 = 40.5\n",
    "- Mesa C1 = 30.1\n"
   ]
  },
  {
   "cell_type": "code",
   "execution_count": 24,
   "id": "eafe8f89",
   "metadata": {},
   "outputs": [
    {
     "name": "stdout",
     "output_type": "stream",
     "text": [
      "['CandidatoA' 'CandidatoB' 'CandidatoC' 'CandidatoD']\n",
      "[[10.1  5.4 21.1]\n",
      " [33.1 40.2 33.7]\n",
      " [ 9.1  7.8  4.1]\n",
      " [50.1 40.5 30.1]]\n",
      "Los votos del Candidato C son  [[9.1 7.8 4.1]]\n"
     ]
    }
   ],
   "source": [
    "candidatos_nombre = np.array(['CandidatoA','CandidatoB','CandidatoC','CandidatoD'])\n",
    "votos_candidatos_mesas_1A1B1C = np.array([[10.1,5.4,21.1],[33.1,40.2,33.7],[9.1,7.8,4.1],[50.1,40.5,30.1]])\n",
    "print(candidatos_nombre)\n",
    "print(votos_candidatos_mesas_1A1B1C)\n",
    "print(\"Los votos del Candidato C son \",votos_candidatos_mesas_1A1B1C[candidatos_nombre=='CandidatoC'])\n",
    "\n"
   ]
  },
  {
   "cell_type": "markdown",
   "id": "f7cd4e8e",
   "metadata": {},
   "source": [
    "5-Crear una matriz de 4x4 con valores que van de 0 a 15."
   ]
  },
  {
   "cell_type": "code",
   "execution_count": 28,
   "id": "202b053b",
   "metadata": {},
   "outputs": [
    {
     "name": "stdout",
     "output_type": "stream",
     "text": [
      "[[ 0  1  2  3]\n",
      " [ 4  5  6  7]\n",
      " [ 8  9 10 11]\n",
      " [12 13 14 15]]\n"
     ]
    }
   ],
   "source": [
    "matriz5 = np.arange(16).reshape(4, 4)\n",
    "print(matriz5)"
   ]
  },
  {
   "cell_type": "markdown",
   "id": "9e512090",
   "metadata": {},
   "source": [
    "6- Crear una matriz de 10x10 con el valor 1 en todos sus bordes y 0 en su interior."
   ]
  },
  {
   "cell_type": "code",
   "execution_count": 103,
   "id": "831ccee4",
   "metadata": {},
   "outputs": [
    {
     "name": "stdout",
     "output_type": "stream",
     "text": [
      "[[1. 1. 1. 1. 1.]\n",
      " [1. 0. 0. 0. 1.]\n",
      " [1. 0. 0. 0. 1.]\n",
      " [1. 0. 0. 0. 1.]\n",
      " [1. 1. 1. 1. 1.]]\n"
     ]
    }
   ],
   "source": [
    "bordes = np.ones((5,5))\n",
    "bordes[1:-1,1:-1] = 0\n",
    "print(bordes)"
   ]
  },
  {
   "cell_type": "markdown",
   "id": "36965d5d",
   "metadata": {},
   "source": [
    "7-Crea una matriz de 5x5 con los valores 1,2,3,4 justo debajo de la diagonal."
   ]
  },
  {
   "cell_type": "code",
   "execution_count": 33,
   "id": "e6d7e1df",
   "metadata": {},
   "outputs": [
    {
     "name": "stdout",
     "output_type": "stream",
     "text": [
      "[[0 0 0 0 0]\n",
      " [1 0 0 0 0]\n",
      " [0 2 0 0 0]\n",
      " [0 0 3 0 0]\n",
      " [0 0 0 4 0]]\n"
     ]
    }
   ],
   "source": [
    "diagonal = np.diag(1+np.arange(4),k=-1)\n",
    "print(diagonal)"
   ]
  },
  {
   "cell_type": "markdown",
   "id": "e9d4fc3d",
   "metadata": {},
   "source": [
    "8-Imprima el valor mínimo y máximo representable para cada tipo escalar en numpy."
   ]
  },
  {
   "cell_type": "code",
   "execution_count": 34,
   "id": "49525a7a",
   "metadata": {},
   "outputs": [
    {
     "name": "stdout",
     "output_type": "stream",
     "text": [
      "-128\n",
      "127\n",
      "-2147483648\n",
      "2147483647\n",
      "-9223372036854775808\n",
      "9223372036854775807\n",
      "-3.4028235e+38\n",
      "3.4028235e+38\n",
      "1.1920929e-07\n",
      "-1.7976931348623157e+308\n",
      "1.7976931348623157e+308\n",
      "2.220446049250313e-16\n"
     ]
    }
   ],
   "source": [
    "for dtype in [np.int8, np.int32, np.int64]:\n",
    "   print(np.iinfo(dtype).min)\n",
    "   print(np.iinfo(dtype).max)\n",
    "for dtype in [np.float32, np.float64]:\n",
    "   print(np.finfo(dtype).min)\n",
    "   print(np.finfo(dtype).max)\n",
    "   print(np.finfo(dtype).eps)"
   ]
  },
  {
   "cell_type": "markdown",
   "id": "d52b780b",
   "metadata": {},
   "source": [
    "9-Dado un array de dos dimensiones, mostrar si este tiene un valor null."
   ]
  },
  {
   "cell_type": "code",
   "execution_count": 101,
   "id": "7b06af51",
   "metadata": {},
   "outputs": [
    {
     "name": "stdout",
     "output_type": "stream",
     "text": [
      "[[1 2 2 0 1 2 2 0 2 2]\n",
      " [1 1 1 0 1 2 1 0 0 1]\n",
      " [2 2 2 2 0 0 0 1 2 1]]\n",
      "[nan  1.  2. nan  3.]\n",
      "La matriz no contiene valores NaN\n",
      "----------------------\n",
      "La matriz contiene valores NaN\n"
     ]
    }
   ],
   "source": [
    "array9 = np.random.randint(0,3,(3,10))\n",
    "array10 = np.array([np.NaN,1,2,np.NaN,3])\n",
    "print(array9)\n",
    "print(array10)\n",
    "if(np.isnan(array9).any()):\n",
    "    print(\"La matriz contiene valores NaN\")\n",
    "else:\n",
    "    print(\"La matriz no contiene valores NaN\")\n",
    "print(\"----------------------\")\n",
    "if(np.isnan(array10).any()):\n",
    "    print(\"La matriz contiene valores NaN\")\n",
    "else:\n",
    "    print(\"La matriz no contiene valores NaN\")\n",
    "    "
   ]
  },
  {
   "cell_type": "markdown",
   "id": "9ba48202",
   "metadata": {},
   "source": [
    "10-Encontrar el valor más cercano de un valor dado en una matriz."
   ]
  },
  {
   "cell_type": "code",
   "execution_count": 85,
   "id": "6d09e5c7",
   "metadata": {},
   "outputs": [
    {
     "name": "stdout",
     "output_type": "stream",
     "text": [
      "0.956193871974871\n"
     ]
    }
   ],
   "source": [
    "matriz = np.random.uniform(0,1,10)\n",
    "valor_dado = 5\n",
    "resultado = matriz.flat[np.abs(matriz - valor_dado).argmin()]\n",
    "print(resultado)"
   ]
  },
  {
   "cell_type": "markdown",
   "id": "6338b24a",
   "metadata": {},
   "source": [
    "11-Considerando una matriz de dimensión (5,5,3),multiplicarla por una matriz con dimensiones(5,5)."
   ]
  },
  {
   "cell_type": "code",
   "execution_count": 105,
   "id": "69c0ac0a",
   "metadata": {},
   "outputs": [
    {
     "name": "stdout",
     "output_type": "stream",
     "text": [
      "[[[1. 1. 1.]\n",
      "  [1. 1. 1.]\n",
      "  [1. 1. 1.]\n",
      "  [1. 1. 1.]\n",
      "  [1. 1. 1.]]\n",
      "\n",
      " [[1. 1. 1.]\n",
      "  [1. 1. 1.]\n",
      "  [1. 1. 1.]\n",
      "  [1. 1. 1.]\n",
      "  [1. 1. 1.]]\n",
      "\n",
      " [[1. 1. 1.]\n",
      "  [1. 1. 1.]\n",
      "  [1. 1. 1.]\n",
      "  [1. 1. 1.]\n",
      "  [1. 1. 1.]]\n",
      "\n",
      " [[1. 1. 1.]\n",
      "  [1. 1. 1.]\n",
      "  [1. 1. 1.]\n",
      "  [1. 1. 1.]\n",
      "  [1. 1. 1.]]\n",
      "\n",
      " [[1. 1. 1.]\n",
      "  [1. 1. 1.]\n",
      "  [1. 1. 1.]\n",
      "  [1. 1. 1.]\n",
      "  [1. 1. 1.]]]\n",
      "----------------------\n",
      "[[3. 3. 3. 3. 3.]\n",
      " [3. 3. 3. 3. 3.]\n",
      " [3. 3. 3. 3. 3.]\n",
      " [3. 3. 3. 3. 3.]\n",
      " [3. 3. 3. 3. 3.]]\n",
      "----------------------\n",
      "[[[3. 3. 3.]\n",
      "  [3. 3. 3.]\n",
      "  [3. 3. 3.]\n",
      "  [3. 3. 3.]\n",
      "  [3. 3. 3.]]\n",
      "\n",
      " [[3. 3. 3.]\n",
      "  [3. 3. 3.]\n",
      "  [3. 3. 3.]\n",
      "  [3. 3. 3.]\n",
      "  [3. 3. 3.]]\n",
      "\n",
      " [[3. 3. 3.]\n",
      "  [3. 3. 3.]\n",
      "  [3. 3. 3.]\n",
      "  [3. 3. 3.]\n",
      "  [3. 3. 3.]]\n",
      "\n",
      " [[3. 3. 3.]\n",
      "  [3. 3. 3.]\n",
      "  [3. 3. 3.]\n",
      "  [3. 3. 3.]\n",
      "  [3. 3. 3.]]\n",
      "\n",
      " [[3. 3. 3.]\n",
      "  [3. 3. 3.]\n",
      "  [3. 3. 3.]\n",
      "  [3. 3. 3.]\n",
      "  [3. 3. 3.]]]\n"
     ]
    }
   ],
   "source": [
    "A = np.ones((5,5,3))\n",
    "print(A)\n",
    "print(\"----------------------\")\n",
    "B = 3*np.ones((5,5))\n",
    "print(B)\n",
    "print(\"----------------------\")\n",
    "print(A * B[:,:,None])"
   ]
  },
  {
   "cell_type": "markdown",
   "id": "6d1ceb9f",
   "metadata": {},
   "source": [
    "12-Tomando el vector [1, 2, 3, 4, 5], construir un nuevo vector con 3 ceros consecutivos intercalados entre cada valor."
   ]
  },
  {
   "cell_type": "code",
   "execution_count": 61,
   "id": "d4892969",
   "metadata": {},
   "outputs": [
    {
     "name": "stdout",
     "output_type": "stream",
     "text": [
      "[1. 0. 0. 0. 2. 0. 0. 0. 3. 0. 0. 0. 4. 0. 0. 0. 5.]\n"
     ]
    }
   ],
   "source": [
    "array = np.array([1,2,3,4,5])\n",
    "ceros_consecutivos = 3\n",
    "nuevo_array = np.zeros(len(array) + (len(array)-1)*(ceros_consecutivos))\n",
    "nuevo_array[::ceros_consecutivos+1] = array\n",
    "print(nuevo_array)"
   ]
  },
  {
   "cell_type": "markdown",
   "id": "29d15e0f",
   "metadata": {},
   "source": [
    "13-Encontrar el valor más frecuente en un array."
   ]
  },
  {
   "cell_type": "code",
   "execution_count": 78,
   "id": "4d6dc71a",
   "metadata": {},
   "outputs": [
    {
     "name": "stdout",
     "output_type": "stream",
     "text": [
      "[5 8 5 5 5 5 6 9 1 9 0 5 0 0 7 9 2 1 7 7 1 2 8 5 5 7 1 8 7 7 5 2 6 2 9 2 8\n",
      " 7 0 6 7 0 0 6 5 4 9 6 8 4]\n",
      "El valor más frecuente es  5\n"
     ]
    }
   ],
   "source": [
    "array = np.random.randint(0,10,50)\n",
    "print(array)\n",
    "print(\"El valor más frecuente es \",np.bincount(array).argmax())"
   ]
  },
  {
   "cell_type": "markdown",
   "id": "52cf895b",
   "metadata": {},
   "source": [
    "14-Obtener los n valores más grandes de una matriz."
   ]
  },
  {
   "cell_type": "code",
   "execution_count": 76,
   "id": "61def7f6",
   "metadata": {},
   "outputs": [
    {
     "name": "stdout",
     "output_type": "stream",
     "text": [
      "[99 97 98 96]\n"
     ]
    }
   ],
   "source": [
    "matriz = np.arange(100)\n",
    "np.random.shuffle(matriz)\n",
    "n = 4\n",
    "print (matriz[np.argpartition(-matriz,n)[:n]])"
   ]
  },
  {
   "cell_type": "markdown",
   "id": "957dceb2",
   "metadata": {},
   "source": [
    "15-Tomando una matriz de 10x3, extraer las filas con valores desiguales y mostrarlas por pantalla."
   ]
  },
  {
   "cell_type": "code",
   "execution_count": 71,
   "id": "dd129021",
   "metadata": {},
   "outputs": [
    {
     "name": "stdout",
     "output_type": "stream",
     "text": [
      "[[0 4 3]\n",
      " [2 0 1]\n",
      " [0 2 4]\n",
      " [1 4 4]\n",
      " [2 2 0]\n",
      " [1 1 1]\n",
      " [0 4 2]\n",
      " [0 3 4]\n",
      " [2 0 1]\n",
      " [0 3 0]]\n",
      "---------------\n",
      "[[0 4 3]\n",
      " [2 0 1]\n",
      " [0 2 4]\n",
      " [1 4 4]\n",
      " [2 2 0]\n",
      " [0 4 2]\n",
      " [0 3 4]\n",
      " [2 0 1]\n",
      " [0 3 0]]\n"
     ]
    }
   ],
   "source": [
    "array = np.random.randint(0,5,(10,3))\n",
    "print(array)\n",
    "print('---------------')\n",
    "E = np.all(array[:,1:] == array[:,:-1], axis=1)\n",
    "U = array[~E]\n",
    "print(U)"
   ]
  }
 ],
 "metadata": {
  "kernelspec": {
   "display_name": "Python 3 (ipykernel)",
   "language": "python",
   "name": "python3"
  },
  "language_info": {
   "codemirror_mode": {
    "name": "ipython",
    "version": 3
   },
   "file_extension": ".py",
   "mimetype": "text/x-python",
   "name": "python",
   "nbconvert_exporter": "python",
   "pygments_lexer": "ipython3",
   "version": "3.9.12"
  }
 },
 "nbformat": 4,
 "nbformat_minor": 5
}
